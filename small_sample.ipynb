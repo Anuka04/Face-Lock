{
 "cells": [
  {
   "cell_type": "code",
   "execution_count": 46,
   "metadata": {},
   "outputs": [],
   "source": [
    "from sklearn.datasets import fetch_lfw_pairs\n",
    "from sklearn.metrics import accuracy_score, precision_score, recall_score, f1_score, confusion_matrix\n",
    "import matplotlib.pyplot as plt\n",
    "import pandas as pd\n",
    "import face_recognition\n",
    "from PIL import Image\n",
    "import numpy as np"
   ]
  },
  {
   "cell_type": "code",
   "execution_count": 47,
   "metadata": {},
   "outputs": [],
   "source": [
    "# Import the LFW dataset\n",
    "lfw_pairs = fetch_lfw_pairs()"
   ]
  },
  {
   "cell_type": "code",
   "execution_count": 48,
   "metadata": {},
   "outputs": [],
   "source": [
    "# Get the image pairs and target labels\n",
    "pairs = lfw_pairs.pairs\n",
    "labels = lfw_pairs.target"
   ]
  },
  {
   "cell_type": "code",
   "execution_count": 49,
   "metadata": {},
   "outputs": [
    {
     "name": "stdout",
     "output_type": "stream",
     "text": [
      "instances:  2200\n"
     ]
    }
   ],
   "source": [
    "instances = pairs.shape[0]\n",
    "print(\"instances: \", instances)"
   ]
  },
  {
   "cell_type": "code",
   "execution_count": 50,
   "metadata": {},
   "outputs": [],
   "source": [
    "import numpy as np\n",
    "import random\n",
    "\n",
    "predictions =[]\n",
    "actuals =[]\n",
    "\n",
    "# Convert pairs to a list\n",
    "#pairs_list = pairs.tolist()\n",
    "\n",
    "# Set the number of instances to 1000\n",
    "#instances = 1000\n",
    "\n",
    "# Select a random subset of instances\n",
    "#random_pairs = random.sample(pairs_list, instances)\n",
    "\n",
    "# Iterate over the randomly selected image pairs\n",
    "#for i, pair in enumerate(random_pairs):\n",
    "# Iterate over the image pairs\n",
    "#for i, pair in enumerate(pairs[:instances]):\n",
    "\n",
    "\n",
    "for i, pair in enumerate(pairs):\n",
    "    # Load the image and convert to RGB format\n",
    "    img1 = Image.fromarray(pair[0]).convert(\"RGB\")\n",
    "    img2 = Image.fromarray(pair[1]).convert(\"RGB\")\n",
    "\n",
    "    # Now you can pass img1 and img2 to the face_encodings function\n",
    "    encodings1 = face_recognition.face_encodings(np.array(img1))\n",
    "    encodings2 = face_recognition.face_encodings(np.array(img2))\n",
    "\n",
    "    if len(encodings1) == 0 or len(encodings2) == 0:\n",
    "        # Face not detected in one or both images\n",
    "        prediction = False\n",
    "    else:\n",
    "        # Convert encodings to NumPy arrays\n",
    "        encodings1 = np.array(encodings1)\n",
    "        encodings2 = np.array(encodings2)\n",
    "\n",
    "        # Compare the face encodings\n",
    "        comparison = face_recognition.compare_faces(encodings1, encodings2, tolerance=0.7)\n",
    "        prediction = any(comparison)\n",
    "    \n",
    "    predictions.append(prediction)\n",
    "    actual = True if labels[i] == 1 else False\n",
    "    actuals.append(actual)\n"
   ]
  },
  {
   "cell_type": "code",
   "execution_count": 55,
   "metadata": {},
   "outputs": [],
   "source": [
    "accuracy = 100*accuracy_score(actuals, predictions)\n",
    "precision = 100*precision_score(actuals, predictions)\n",
    "recall = 100*recall_score(actuals, predictions)\n",
    "f1 = 100*f1_score(actuals, predictions)"
   ]
  },
  {
   "cell_type": "code",
   "execution_count": 56,
   "metadata": {},
   "outputs": [
    {
     "name": "stdout",
     "output_type": "stream",
     "text": [
      "instances:  6600\n",
      "accuracy:  79.36363636363636 %\n",
      "precision:  94.12568306010928 %\n",
      "recall:  62.63636363636363 %\n",
      "f1:  75.2183406113537 %\n"
     ]
    }
   ],
   "source": [
    "print(\"instances: \",len(actuals))\n",
    "print(\"accuracy: \" , accuracy, \"%\")\n",
    "print(\"precision: \", precision, \"%\")\n",
    "print(\"recall: \", recall,\"%\")\n",
    "print(\"f1: \",f1,\"%\")"
   ]
  },
  {
   "cell_type": "code",
   "execution_count": 57,
   "metadata": {},
   "outputs": [
    {
     "data": {
      "text/plain": [
       "array([[3171,  129],\n",
       "       [1233, 2067]], dtype=int64)"
      ]
     },
     "execution_count": 57,
     "metadata": {},
     "output_type": "execute_result"
    }
   ],
   "source": [
    "cm = confusion_matrix(actuals, predictions)\n",
    "cm"
   ]
  },
  {
   "cell_type": "code",
   "execution_count": 54,
   "metadata": {},
   "outputs": [
    {
     "data": {
      "text/plain": [
       "(3171, 129, 1233, 2067)"
      ]
     },
     "execution_count": 54,
     "metadata": {},
     "output_type": "execute_result"
    }
   ],
   "source": [
    "tn, fp, fn, tp = cm.ravel()\n",
    "(tn, fp, fn, tp)"
   ]
  }
 ],
 "metadata": {
  "kernelspec": {
   "display_name": "Python 3",
   "language": "python",
   "name": "python3"
  },
  "language_info": {
   "codemirror_mode": {
    "name": "ipython",
    "version": 3
   },
   "file_extension": ".py",
   "mimetype": "text/x-python",
   "name": "python",
   "nbconvert_exporter": "python",
   "pygments_lexer": "ipython3",
   "version": "3.9.6"
  },
  "orig_nbformat": 4
 },
 "nbformat": 4,
 "nbformat_minor": 2
}
